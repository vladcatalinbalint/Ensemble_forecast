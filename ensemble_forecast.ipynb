{
 "cells": [
  {
   "cell_type": "code",
   "execution_count": 96,
   "id": "7ad0e6fe-db20-4215-93ce-312087fa0927",
   "metadata": {},
   "outputs": [],
   "source": [
    "import requests\n",
    "import pandas as pd\n",
    "import pandas as pd\n",
    "from statsmodels.tsa.arima.model import ARIMA\n",
    "from statsmodels.tsa.statespace.sarimax import SARIMAX\n",
    "from helpers import *"
   ]
  },
  {
   "cell_type": "markdown",
   "id": "4102d8e8-4939-436b-b39a-188455f7b619",
   "metadata": {},
   "source": [
    "#### Download time series"
   ]
  },
  {
   "cell_type": "code",
   "execution_count": 97,
   "id": "ac597add-9365-4451-825f-efa1acc023a7",
   "metadata": {},
   "outputs": [],
   "source": [
    "indicator_code = \"NY.GDP.MKTP.CN\"\n",
    "country_code = \"afg\"\n",
    "data = download_time_series_data(indicator_code, country_code)"
   ]
  },
  {
   "cell_type": "markdown",
   "id": "fdbf98eb-5e1c-4b90-8f26-89d17adb18e3",
   "metadata": {},
   "source": [
    "#### Convert to dataframe"
   ]
  },
  {
   "cell_type": "code",
   "execution_count": 98,
   "id": "4cbeafb7-bba7-4946-bd4d-4b3393d09a95",
   "metadata": {},
   "outputs": [],
   "source": [
    "data = convert_to_dataframe(data)\n",
    "# print(df)"
   ]
  },
  {
   "cell_type": "code",
   "execution_count": 99,
   "id": "c9e525b8-3da6-4552-8a0f-0b2acdf28cc8",
   "metadata": {},
   "outputs": [],
   "source": [
    "# drop the last row (year 2022) as it was zero\n",
    "data.drop(data.tail(1).index,inplace=True) # drop last n rows"
   ]
  },
  {
   "cell_type": "code",
   "execution_count": 100,
   "id": "3cad59b2-8005-466f-9953-0445bcc5caac",
   "metadata": {},
   "outputs": [],
   "source": [
    "# change the name of the column and replace missing values by interpolation\n",
    "data.rename(columns = {'value':'gdp'}, inplace = True)\n",
    "data['gdp'].interpolate(inplace=True)\n",
    "\n",
    "# Print the modified DataFrame\n",
    "# print(data)"
   ]
  },
  {
   "cell_type": "code",
   "execution_count": 101,
   "id": "18329ec0-e695-423a-8341-eba222ad2470",
   "metadata": {},
   "outputs": [],
   "source": [
    "# Differencing the data\n",
    "data_diff = data.diff().dropna()\n",
    "# Set the frequency of the data\n",
    "data_diff.index.freq = 'AS-JAN'"
   ]
  },
  {
   "cell_type": "markdown",
   "id": "72867c71-e9d0-4f92-8bcd-e824614e3ff7",
   "metadata": {},
   "source": [
    "#### Create the models and finally the ensemble"
   ]
  },
  {
   "cell_type": "code",
   "execution_count": 102,
   "id": "e1494604-c15d-4b36-b7b5-0717e2956091",
   "metadata": {},
   "outputs": [],
   "source": [
    "# Split the DataFrame into training and forecast sets\n",
    "train_df = data_diff.loc[:'2021']\n",
    "forecast_df = pd.date_range(start='2022', end='2030', freq='AS-JAN')\n",
    "\n",
    "# Fit the ARIMA model\n",
    "arima_model = ARIMA(train_df['gdp'], order=(1, 0, 0))\n",
    "arima_model_fit = arima_model.fit()\n",
    "\n",
    "# Fit the SARIMA model\n",
    "sarima_model = SARIMAX(train_df['gdp'], order=(1, 0, 0), seasonal_order=(1, 0, 0, 12))\n",
    "sarima_model_fit = sarima_model.fit()\n",
    "\n",
    "# Forecast using the ARIMA model\n",
    "arima_forecast = arima_model_fit.forecast(steps=len(forecast_df))\n",
    "\n",
    "# Forecast using the SARIMA model\n",
    "sarima_forecast = sarima_model_fit.forecast(steps=len(forecast_df))\n",
    "\n",
    "# Revert the ARIMA forecast\n",
    "arima_forecast_reverted = arima_forecast.cumsum() + data.iloc[-1]['gdp']\n",
    "\n",
    "# Revert the SES forecast\n",
    "sarima_forecast_reverted = sarima_forecast.cumsum() + data.iloc[-1]['gdp']\n",
    "\n",
    "# Ensemble the forecasts\n",
    "ensemble_forecast = (arima_forecast_reverted + sarima_forecast_reverted) / 2\n",
    "\n",
    "# Create a DataFrame to store the ensemble forecast\n",
    "forecast_df = pd.DataFrame({'ensemble_forecast': ensemble_forecast}, index=test_df)\n",
    "\n",
    "# # Print the ensemble forecast\n",
    "# print(forecast_df)"
   ]
  },
  {
   "cell_type": "markdown",
   "id": "383fed1d-2a5f-420c-aeaa-ab5f43308bff",
   "metadata": {},
   "source": [
    "#### Concatenate the results to the original data"
   ]
  },
  {
   "cell_type": "code",
   "execution_count": 103,
   "id": "f904de07-5fc2-403a-aaa0-449060607f3c",
   "metadata": {},
   "outputs": [],
   "source": [
    "# Create a DataFrame for the ensemble forecast\n",
    "forecast_df = pd.DataFrame({'Ensemble_Forecast': ensemble_forecast}, index=test_df)\n",
    "\n",
    "# Rename the column in the forecast dataframe\n",
    "forecast_df.columns = ['gdp']\n",
    "\n",
    "# Concatenate the original data and the forecast vertically\n",
    "result_df = pd.concat([data, forecast_df], axis=0)\n",
    "\n",
    "# # Print the result\n",
    "# print(result_df)"
   ]
  },
  {
   "cell_type": "code",
   "execution_count": 104,
   "id": "aa73f749-c205-4836-b8c4-7eb81686088e",
   "metadata": {},
   "outputs": [],
   "source": [
    "# Create a new column indicating the data type\n",
    "# result_df['data_type'] = ['Original'] * len(data) + ['Forecast'] * len(forecast_df)\n",
    "\n",
    "# Add a new index column 'data_type' based on the date index\n",
    "result_df['data_type'] = pd.cut(result_df.index, bins=[pd.Timestamp('1972-12-31'), pd.Timestamp('2021-12-31'), pd.Timestamp('2030-12-31')], labels=['Original', 'Forecast'])\n",
    "\n",
    "# Set the MultiIndex\n",
    "result_df.set_index('data_type', append=True, inplace=True)\n",
    "result_df.index.names = ['date', 'data_type']\n",
    "result_df = result_df.swaplevel()\n",
    "\n",
    "# # Print the DataFrame\n",
    "# print(result_df)"
   ]
  },
  {
   "cell_type": "markdown",
   "id": "1e2661a2-f28b-4aec-8e25-c89f6337c1a1",
   "metadata": {},
   "source": [
    "#### Save the results to disk"
   ]
  },
  {
   "cell_type": "code",
   "execution_count": 105,
   "id": "f2b2c3bc-0815-41f9-8bbe-9a4fb3da9269",
   "metadata": {},
   "outputs": [
    {
     "name": "stdout",
     "output_type": "stream",
     "text": [
      "Forecast data saved to forecast_data.csv\n"
     ]
    }
   ],
   "source": [
    "# Save the dataframe to a CSV file\n",
    "result_df.to_csv('forecast_data.csv', index=False)\n",
    "\n",
    "print(\"Forecast data saved to forecast_data.csv\")"
   ]
  },
  {
   "cell_type": "code",
   "execution_count": null,
   "id": "ad721c35-9302-4cf8-9e51-56a15c4eb284",
   "metadata": {},
   "outputs": [],
   "source": []
  }
 ],
 "metadata": {
  "kernelspec": {
   "display_name": "Python 3 (ipykernel)",
   "language": "python",
   "name": "python3"
  },
  "language_info": {
   "codemirror_mode": {
    "name": "ipython",
    "version": 3
   },
   "file_extension": ".py",
   "mimetype": "text/x-python",
   "name": "python",
   "nbconvert_exporter": "python",
   "pygments_lexer": "ipython3",
   "version": "3.10.4"
  }
 },
 "nbformat": 4,
 "nbformat_minor": 5
}
